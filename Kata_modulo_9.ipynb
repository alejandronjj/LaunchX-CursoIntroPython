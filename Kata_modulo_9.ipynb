{
 "cells": [
  {
   "cell_type": "markdown",
   "metadata": {},
   "source": [
    "# Kata 10\n",
    "### Ejercicio 1"
   ]
  },
  {
   "cell_type": "code",
   "execution_count": 6,
   "metadata": {},
   "outputs": [
    {
     "name": "stdout",
     "output_type": "stream",
     "text": [
      " Reporte de tanques\n",
      "    Tanque 1| 10\n",
      "    Tanque 2| 2030\n",
      "    Tanque 3| 20\n",
      "    Promedio| 686.6666666666666\n",
      "    \n"
     ]
    }
   ],
   "source": [
    "def perreo(se,menea,w):\n",
    "    average1=(se+menea+w)/3\n",
    "    return f\"\"\" Reporte de tanques\n",
    "    Tanque 1| {se}\n",
    "    Tanque 2| {menea}\n",
    "    Tanque 3| {w}\n",
    "    Promedio| {average1}\n",
    "    \"\"\"\n",
    "\n",
    "tank1=int(input(\"Ingrese la lectura del tanque 1: \"))\n",
    "tank2=int(input(\"Ingrese la lectura del tanque 2: \"))\n",
    "tank3=int(input(\"Ingrese la lectura del tanque 3: \"))\n",
    "print(perreo(tank1,tank2,tank3))"
   ]
  },
  {
   "cell_type": "code",
   "execution_count": 8,
   "metadata": {},
   "outputs": [
    {
     "name": "stdout",
     "output_type": "stream",
     "text": [
      "686.6666666666666\n"
     ]
    }
   ],
   "source": [
    "def promedio(*values):\n",
    "    total=sum(values)\n",
    "    number_items=len(values)\n",
    "    galleta=total/number_items\n",
    "    return galleta\n",
    "print(promedio(tank1,tank2,tank3))"
   ]
  },
  {
   "cell_type": "markdown",
   "metadata": {},
   "source": [
    "## Actualizando Función"
   ]
  },
  {
   "cell_type": "code",
   "execution_count": 10,
   "metadata": {},
   "outputs": [],
   "source": [
    "def perreos(se,menea,w):\n",
    "    promedio(se,menea,w)\n",
    "    return f\"\"\" Reporte de tanques\n",
    "    Tanque 1| {se}\n",
    "    Tanque 2| {menea}\n",
    "    Tanque 3| {w}\n",
    "    Promedio| { promedio(se,menea,w)}\n",
    "    \"\"\""
   ]
  },
  {
   "cell_type": "code",
   "execution_count": 11,
   "metadata": {},
   "outputs": [
    {
     "name": "stdout",
     "output_type": "stream",
     "text": [
      " Reporte de tanques\n",
      "    Tanque 1| 10\n",
      "    Tanque 2| 20\n",
      "    Tanque 3| 30\n",
      "    Promedio| 20.0\n",
      "    \n"
     ]
    }
   ],
   "source": [
    "tank11=int(input(\"Ingrese la lectura del tanque 11: \"))\n",
    "tank22=int(input(\"Ingrese la lectura del tanque 22: \"))\n",
    "tank33=int(input(\"Ingrese la lectura del tanque 33: \"))\n",
    "print(perreos(tank11,tank22,tank33))"
   ]
  },
  {
   "cell_type": "markdown",
   "metadata": {},
   "source": [
    "## Ejercicio 2"
   ]
  },
  {
   "cell_type": "code",
   "execution_count": 12,
   "metadata": {},
   "outputs": [
    {
     "name": "stdout",
     "output_type": "stream",
     "text": [
      "\n",
      "    Misión a Ella\n",
      "    Tiempo de viaje 51\n",
      "    Combustible disponible 2666\n",
      "    \n"
     ]
    }
   ],
   "source": [
    "# Función con un informe preciso de la misión. Considera hora de prelanzamiento,\n",
    "#  tiempo de vuelo, destino, tanque externo y tanque interno\n",
    "def informe(hora,tiempo,destino,texterno,tprincipal):\n",
    "    return f\"\"\"\n",
    "    Misión a {destino}\n",
    "    Tiempo de viaje {tiempo}\n",
    "    Combustible disponible {texterno+tprincipal}\n",
    "    \"\"\"\n",
    "print(informe(14,51,\"Ella\",2000,666))"
   ]
  },
  {
   "cell_type": "code",
   "execution_count": 14,
   "metadata": {},
   "outputs": [
    {
     "name": "stdout",
     "output_type": "stream",
     "text": [
      "\n",
      "    Misión a Ella\n",
      "    Tiempo de viaje 100 minutos\n",
      "    Combustible disponible 6666\n",
      "    \n"
     ]
    }
   ],
   "source": [
    "def informe_nuevo(destino,*minutos,**deposito):\n",
    "    reporte_bonito=f\"\"\"\n",
    "    Misión a {destino}\n",
    "    Tiempo de viaje {sum(minutos)} minutos\n",
    "    Combustible disponible {sum(deposito.values())}\n",
    "    \"\"\"\n",
    "    return reporte_bonito\n",
    "print(informe_nuevo(\"Ella\",10,20,30,40,trprinipal=666,trsecundario=6000))\n"
   ]
  }
 ],
 "metadata": {
  "interpreter": {
   "hash": "093716368ce9a2765281b083504e9687ebb767334e3989625b9351f84d33bd77"
  },
  "kernelspec": {
   "display_name": "Python 3.10.2 64-bit",
   "language": "python",
   "name": "python3"
  },
  "language_info": {
   "codemirror_mode": {
    "name": "ipython",
    "version": 3
   },
   "file_extension": ".py",
   "mimetype": "text/x-python",
   "name": "python",
   "nbconvert_exporter": "python",
   "pygments_lexer": "ipython3",
   "version": "3.10.2"
  },
  "orig_nbformat": 4
 },
 "nbformat": 4,
 "nbformat_minor": 2
}
