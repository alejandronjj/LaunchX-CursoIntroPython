{
 "cells": [
  {
   "cell_type": "markdown",
   "metadata": {},
   "source": [
    "# Advertencia de Colisión de asteroide\n",
    "Escribir una lógica condicional que imprima una advertenciasi un asteroide se acerca a la tierra demasiado rápido.La velocidad del asteroide varía dependiendo de lo cerca que esté del sol, y cualquier velocidad superior a 25 kilómetros por segundo (km/s) merece una advertencia."
   ]
  },
  {
   "cell_type": "markdown",
   "metadata": {},
   "source": [
    "## Problema 1\n",
    "introducir velocidad de 49"
   ]
  },
  {
   "cell_type": "code",
   "execution_count": 2,
   "metadata": {},
   "outputs": [
    {
     "name": "stdout",
     "output_type": "stream",
     "text": [
      "Introduzca la velocidad del asteriode en Km/s: 49\n",
      "Seres humanos, hay un asteroide en los cielos\n",
      "Abrid los ojos, mirad al cielo y busquen una luz en el firmamento\n"
     ]
    }
   ],
   "source": [
    "asteroide=float(input(\"Introduzca la velocidad del asteriode en Km/s: \"))\n",
    "if asteroide>25:\n",
    "    print(\"Seres humanos, hay un asteroide en los cielos\")\n",
    "    print(\"Se acerca a velocidades peligrosas\")\n",
    "else:\n",
    "    print(\"No hay novedades en el cielo\")"
   ]
  },
  {
   "cell_type": "markdown",
   "metadata": {},
   "source": [
    "## Problema 2\n",
    "introducri velocidad de 19"
   ]
  },
  {
   "cell_type": "code",
   "execution_count": 6,
   "metadata": {},
   "outputs": [
    {
     "name": "stdout",
     "output_type": "stream",
     "text": [
      "Introduzca la velocidad del asteriode en Km/s: 20\n",
      "Alerta, asteroide acercándose a velocidad peligrosa\n",
      "Abrid los ojos, mirad al cielo y busquen una luz en el firmamento\n"
     ]
    }
   ],
   "source": [
    "# el asteroide se acerca a la tierra a 49 km/se\n",
    "asteroide=float(input(\"Introduzca la velocidad del asteriode en Km/s: \"))\n",
    "if asteroide>=20:\n",
    "    print(\"Alerta, asteroide acercándose a velocidad peligrosa\")\n",
    "    print(\"Abrid los ojos, mirad al cielo y busquen una luz en el firmamento\")\n",
    "else:\n",
    "    print(\"No hay peligro. Sigue viviendo\")\n"
   ]
  },
  {
   "cell_type": "markdown",
   "metadata": {},
   "source": [
    "## Problema 3\n",
    "Asteroide con velocidad y dimensiones dadas"
   ]
  },
  {
   "cell_type": "code",
   "execution_count": 4,
   "metadata": {},
   "outputs": [
    {
     "name": "stdout",
     "output_type": "stream",
     "text": [
      "hay una luz en el cielo\n"
     ]
    }
   ],
   "source": [
    "tamano=40\n",
    "velocidad=25\n",
    "\n",
    "if velocidad>25 and tamano>25:\n",
    "    print(\"Asteroide sumamente peligroso se acerca a la tierra\")\n",
    "elif velocidad>=20:\n",
    "    print(\"hay una luz en el cielo\")\n",
    "elif tamano<25:\n",
    "    print(\"No hay de qué `reocuparse\")\n",
    "else:\n",
    "    print(\"No hay de qué `reocuparse\")\n",
    "    \n",
    "    "
   ]
  }
 ],
 "metadata": {
  "interpreter": {
   "hash": "b3ba2566441a7c06988d0923437866b63cedc61552a5af99d1f4fb67d367b25f"
  },
  "kernelspec": {
   "display_name": "Python 3",
   "language": "python",
   "name": "python3"
  },
  "language_info": {
   "codemirror_mode": {
    "name": "ipython",
    "version": 3
   },
   "file_extension": ".py",
   "mimetype": "text/x-python",
   "name": "python",
   "nbconvert_exporter": "python",
   "pygments_lexer": "ipython3",
   "version": "3.8.5"
  }
 },
 "nbformat": 4,
 "nbformat_minor": 2
}
