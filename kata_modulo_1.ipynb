{
 "cells": [
  {
   "cell_type": "markdown",
   "metadata": {},
   "source": [
    "# Kata Módulo 1\n",
    "## Tu primer programa\n",
    "Crear un programa que muestre la fecha en Jupyter Notebook"
   ]
  },
  {
   "cell_type": "code",
   "execution_count": 8,
   "metadata": {},
   "outputs": [
    {
     "name": "stdout",
     "output_type": "stream",
     "text": [
      "Today's date is 2022-02-05\n"
     ]
    }
   ],
   "source": [
    "from datetime import date\n",
    "print (\"Today's date is\", date.today())"
   ]
  },
  {
   "cell_type": "markdown",
   "metadata": {},
   "source": [
    "## Convertir Unidades\n",
    "El oficial superior Han Solo ordena un programa de conversión entre parsecs y años luz"
   ]
  },
  {
   "cell_type": "code",
   "execution_count": 7,
   "metadata": {},
   "outputs": [
    {
     "name": "stdout",
     "output_type": "stream",
     "text": [
      "Introduzca los parsecs: 13\n",
      "13 parsecs equivalen a 42.400279999999995 años luz.\n"
     ]
    }
   ],
   "source": [
    "parsec=int(input(\"Introduzca los parsecs: \"))\n",
    "lightyears=parsec*3.26156\n",
    "print(parsec,\"parsecs equivalen a\",lightyears,\"años luz.\")"
   ]
  }
 ],
 "metadata": {
  "kernelspec": {
   "display_name": "Python 3",
   "language": "python",
   "name": "python3"
  },
  "language_info": {
   "codemirror_mode": {
    "name": "ipython",
    "version": 3
   },
   "file_extension": ".py",
   "mimetype": "text/x-python",
   "name": "python",
   "nbconvert_exporter": "python",
   "pygments_lexer": "ipython3",
   "version": "3.8.5"
  }
 },
 "nbformat": 4,
 "nbformat_minor": 4
}
